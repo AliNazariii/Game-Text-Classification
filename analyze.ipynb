{
 "cells": [
  {
   "cell_type": "code",
   "execution_count": 1,
   "metadata": {},
   "outputs": [],
   "source": [
    "import pandas as pd\n",
    "import numpy as np"
   ]
  },
  {
   "cell_type": "code",
   "execution_count": 3,
   "metadata": {},
   "outputs": [],
   "source": [
    "raw_train_df = pd.read_csv(\"train_set.csv\")\n",
    "test_df = pd.read_csv(\"test_set.csv\")"
   ]
  },
  {
   "cell_type": "code",
   "execution_count": 4,
   "metadata": {},
   "outputs": [
    {
     "name": "stdout",
     "output_type": "stream",
     "text": [
      "Index(['app_id', 'description_fa', 'label'], dtype='object')\n",
      "Index(['app_id', 'description_fa'], dtype='object')\n"
     ]
    }
   ],
   "source": [
    "print(raw_train_df.columns)\n",
    "print(test_df.columns)"
   ]
  },
  {
   "cell_type": "code",
   "execution_count": 5,
   "metadata": {},
   "outputs": [
    {
     "name": "stdout",
     "output_type": "stream",
     "text": [
      "37899\n",
      "10000\n"
     ]
    }
   ],
   "source": [
    "print(len(raw_train_df))\n",
    "print(len(test_df))"
   ]
  },
  {
   "cell_type": "code",
   "execution_count": 22,
   "metadata": {},
   "outputs": [
    {
     "data": {
      "text/plain": [
       "9    4000\n",
       "8    4000\n",
       "7    4000\n",
       "6    4000\n",
       "4    4000\n",
       "3    4000\n",
       "1    4000\n",
       "0    4000\n",
       "2    3965\n",
       "5    1934\n",
       "Name: label, dtype: int64"
      ]
     },
     "execution_count": 22,
     "metadata": {},
     "output_type": "execute_result"
    }
   ],
   "source": [
    "raw_train_df[\"label\"].value_counts()"
   ]
  },
  {
   "cell_type": "code",
   "execution_count": 23,
   "metadata": {},
   "outputs": [
    {
     "name": "stdout",
     "output_type": "stream",
     "text": [
      "2237\n",
      "1079\n"
     ]
    }
   ],
   "source": [
    "print(max(raw_train_df[\"description_fa\"].apply(lambda x: len(x.split()))))\n",
    "print(max(test_df[\"description_fa\"].apply(lambda x: len(x.split()))))"
   ]
  },
  {
   "cell_type": "code",
   "execution_count": 41,
   "metadata": {},
   "outputs": [
    {
     "data": {
      "text/html": [
       "<div>\n",
       "<style scoped>\n",
       "    .dataframe tbody tr th:only-of-type {\n",
       "        vertical-align: middle;\n",
       "    }\n",
       "\n",
       "    .dataframe tbody tr th {\n",
       "        vertical-align: top;\n",
       "    }\n",
       "\n",
       "    .dataframe thead th {\n",
       "        text-align: right;\n",
       "    }\n",
       "</style>\n",
       "<table border=\"1\" class=\"dataframe\">\n",
       "  <thead>\n",
       "    <tr style=\"text-align: right;\">\n",
       "      <th></th>\n",
       "      <th>app_id</th>\n",
       "      <th>description_fa</th>\n",
       "      <th>label</th>\n",
       "    </tr>\n",
       "  </thead>\n",
       "  <tbody>\n",
       "    <tr>\n",
       "      <th>0</th>\n",
       "      <td>0</td>\n",
       "      <td>&lt;p&gt;بازی مین روب یک برنامه فکری است که باید مین...</td>\n",
       "      <td>1</td>\n",
       "    </tr>\n",
       "    <tr>\n",
       "      <th>1</th>\n",
       "      <td>1</td>\n",
       "      <td>&lt;p&gt;دراین بازی تعدادی عکس برای شما نشان داده می...</td>\n",
       "      <td>1</td>\n",
       "    </tr>\n",
       "    <tr>\n",
       "      <th>2</th>\n",
       "      <td>2</td>\n",
       "      <td>&lt;br&gt;تلاش نافرجام برای درک «بوفالو»&lt;br&gt;مرگ پایا...</td>\n",
       "      <td>7</td>\n",
       "    </tr>\n",
       "    <tr>\n",
       "      <th>3</th>\n",
       "      <td>3</td>\n",
       "      <td>&lt;p&gt;فیلم نما ، برنامه ای برای دانلود و پخش آنلا...</td>\n",
       "      <td>7</td>\n",
       "    </tr>\n",
       "    <tr>\n",
       "      <th>4</th>\n",
       "      <td>4</td>\n",
       "      <td>&lt;p&gt;* این برنامه حاوی بیش از 500 عکس و ژست برای...</td>\n",
       "      <td>7</td>\n",
       "    </tr>\n",
       "    <tr>\n",
       "      <th>...</th>\n",
       "      <td>...</td>\n",
       "      <td>...</td>\n",
       "      <td>...</td>\n",
       "    </tr>\n",
       "    <tr>\n",
       "      <th>37894</th>\n",
       "      <td>37894</td>\n",
       "      <td>&lt;h3&gt;بدون هیچ هزینه ای، هر هفته مسابقه&lt;/h3&gt;\\n&lt;p...</td>\n",
       "      <td>1</td>\n",
       "    </tr>\n",
       "    <tr>\n",
       "      <th>37895</th>\n",
       "      <td>37895</td>\n",
       "      <td>&lt;p&gt;حیوانات مزرعه به کمک شما احتیاج دارند. بلوک...</td>\n",
       "      <td>1</td>\n",
       "    </tr>\n",
       "    <tr>\n",
       "      <th>37896</th>\n",
       "      <td>37896</td>\n",
       "      <td>&lt;p&gt;&lt;b&gt;_ دوست داری عکس پروفایلت خاص باشه؟&lt;/b&gt;&lt;/...</td>\n",
       "      <td>7</td>\n",
       "    </tr>\n",
       "    <tr>\n",
       "      <th>37897</th>\n",
       "      <td>37897</td>\n",
       "      <td>&lt;p&gt; &lt;p&gt; &lt;b&gt;@@ اولین نسخه این بازی @@ &lt;/b&gt; &lt;br&gt;...</td>\n",
       "      <td>1</td>\n",
       "    </tr>\n",
       "    <tr>\n",
       "      <th>37898</th>\n",
       "      <td>37898</td>\n",
       "      <td>&lt;h4&gt;تاريخي خونين از مردم ايران&lt;/h4&gt;\\n&lt;h4&gt;نبرد ...</td>\n",
       "      <td>0</td>\n",
       "    </tr>\n",
       "  </tbody>\n",
       "</table>\n",
       "<p>37899 rows × 3 columns</p>\n",
       "</div>"
      ],
      "text/plain": [
       "       app_id                                     description_fa  label\n",
       "0           0  <p>بازی مین روب یک برنامه فکری است که باید مین...      1\n",
       "1           1  <p>دراین بازی تعدادی عکس برای شما نشان داده می...      1\n",
       "2           2  <br>تلاش نافرجام برای درک «بوفالو»<br>مرگ پایا...      7\n",
       "3           3  <p>فیلم نما ، برنامه ای برای دانلود و پخش آنلا...      7\n",
       "4           4  <p>* این برنامه حاوی بیش از 500 عکس و ژست برای...      7\n",
       "...       ...                                                ...    ...\n",
       "37894   37894  <h3>بدون هیچ هزینه ای، هر هفته مسابقه</h3>\\n<p...      1\n",
       "37895   37895  <p>حیوانات مزرعه به کمک شما احتیاج دارند. بلوک...      1\n",
       "37896   37896  <p><b>_ دوست داری عکس پروفایلت خاص باشه؟</b></...      7\n",
       "37897   37897  <p> <p> <b>@@ اولین نسخه این بازی @@ </b> <br>...      1\n",
       "37898   37898  <h4>تاريخي خونين از مردم ايران</h4>\\n<h4>نبرد ...      0\n",
       "\n",
       "[37899 rows x 3 columns]"
      ]
     },
     "execution_count": 41,
     "metadata": {},
     "output_type": "execute_result"
    }
   ],
   "source": [
    "raw_train_df"
   ]
  },
  {
   "cell_type": "code",
   "execution_count": null,
   "metadata": {},
   "outputs": [],
   "source": []
  }
 ],
 "metadata": {
  "kernelspec": {
   "display_name": "Python 3",
   "language": "python",
   "name": "python3"
  },
  "language_info": {
   "codemirror_mode": {
    "name": "ipython",
    "version": 3
   },
   "file_extension": ".py",
   "mimetype": "text/x-python",
   "name": "python",
   "nbconvert_exporter": "python",
   "pygments_lexer": "ipython3",
   "version": "3.7.6"
  }
 },
 "nbformat": 4,
 "nbformat_minor": 4
}
